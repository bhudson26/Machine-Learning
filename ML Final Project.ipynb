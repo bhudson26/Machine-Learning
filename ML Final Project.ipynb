{
 "cells": [
  {
   "cell_type": "code",
   "execution_count": 76,
   "id": "ed33dad3-8e4f-4ce1-823c-cc71cb2c1eb5",
   "metadata": {},
   "outputs": [],
   "source": [
    "import uproot\n",
    "import awkward as ak\n",
    "import matplotlib.pyplot as plt\n",
    "import numpy as np\n",
    "import tensorflow as tf\n",
    "import pandas as pd\n",
    "from sklearn.model_selection import train_test_split\n",
    "from sklearn.metrics import roc_curve, auc\n",
    "from sklearn.metrics import roc_curve"
   ]
  },
  {
   "cell_type": "code",
   "execution_count": 77,
   "id": "d2eb3a0d-ccc8-43e9-be5d-eaa307fe5b63",
   "metadata": {},
   "outputs": [],
   "source": [
    "file_s = pd.read_csv(\"tt-chi-sum.csv\")\n",
    "file_b = pd.read_csv(\"bbjj-chi-sum.csv\")"
   ]
  },
  {
   "cell_type": "code",
   "execution_count": 78,
   "id": "72507347-447e-4814-8181-37772fce49ff",
   "metadata": {},
   "outputs": [
    {
     "data": {
      "text/plain": [
       "Index(['Unnamed: 0', 'j1pT', 'j1Eta', 'j1Phi', 'j1Flavor', 'j2pT', 'j2Eta',\n",
       "       'j2Phi', 'j2Flavor', 'j3pT', 'j3Eta', 'j3Phi', 'j3Flavor', 'j4pT',\n",
       "       'j4Eta', 'j4Phi', 'j4Flavor', 'j5pT', 'j5Eta', 'j5Phi', 'j5Flavor',\n",
       "       'j6pT', 'j6Eta', 'j6Phi', 'j6Flavor', 'j12M', 'j13M', 'j14M', 'j25M',\n",
       "       'j23M', 'j24M', 'j34M', 'j35M', 'j45M', 'Chi-W', 'Chi-T'],\n",
       "      dtype='object')"
      ]
     },
     "execution_count": 78,
     "metadata": {},
     "output_type": "execute_result"
    }
   ],
   "source": [
    "file_s.keys()"
   ]
  },
  {
   "cell_type": "code",
   "execution_count": 79,
   "id": "35c4e354-2f30-478f-a26e-9b183b856f6d",
   "metadata": {},
   "outputs": [],
   "source": [
    "foo = file_s['j1Eta']"
   ]
  },
  {
   "cell_type": "code",
   "execution_count": 80,
   "id": "7b85064b-2bed-4e6c-9d80-628cb42bb229",
   "metadata": {},
   "outputs": [
    {
     "data": {
      "text/plain": [
       "pandas.core.series.Series"
      ]
     },
     "execution_count": 80,
     "metadata": {},
     "output_type": "execute_result"
    }
   ],
   "source": [
    "type(foo)"
   ]
  },
  {
   "cell_type": "code",
   "execution_count": 81,
   "id": "e09707db-3c32-488b-8f7e-c187323e095a",
   "metadata": {},
   "outputs": [
    {
     "data": {
      "text/plain": [
       "Index(['Unnamed: 0', 'j1pT', 'j1Eta', 'j1Phi', 'j1Flavor', 'j2pT', 'j2Eta',\n",
       "       'j2Phi', 'j2Flavor', 'j3pT', 'j3Eta', 'j3Phi', 'j3Flavor', 'j4pT',\n",
       "       'j4Eta', 'j4Phi', 'j4Flavor', 'j5pT', 'j5Eta', 'j5Phi', 'j5Flavor',\n",
       "       'j6pT', 'j6Eta', 'j6Phi', 'j6Flavor', 'j12M', 'j13M', 'j14M', 'j25M',\n",
       "       'j23M', 'j24M', 'j34M', 'j35M', 'j45M', 'Chi-W', 'Chi-T'],\n",
       "      dtype='object')"
      ]
     },
     "execution_count": 81,
     "metadata": {},
     "output_type": "execute_result"
    }
   ],
   "source": [
    "file_b.keys()"
   ]
  },
  {
   "cell_type": "code",
   "execution_count": 82,
   "id": "b56ebf9d-e65c-4a02-a943-efafc1f43292",
   "metadata": {},
   "outputs": [],
   "source": [
    "#df = pd.concat([file_s, file_b])\n",
    "# df_s = file_s.drop(\"Unnamed: 0.1\", axis='columns')\n",
    "df_s = file_s.drop(\"Unnamed: 0\", axis='columns')"
   ]
  },
  {
   "cell_type": "code",
   "execution_count": 83,
   "id": "ac28550a-6a42-46bd-92f1-733bfda76220",
   "metadata": {},
   "outputs": [
    {
     "data": {
      "text/plain": [
       "Index(['j1pT', 'j1Eta', 'j1Phi', 'j1Flavor', 'j2pT', 'j2Eta', 'j2Phi',\n",
       "       'j2Flavor', 'j3pT', 'j3Eta', 'j3Phi', 'j3Flavor', 'j4pT', 'j4Eta',\n",
       "       'j4Phi', 'j4Flavor', 'j5pT', 'j5Eta', 'j5Phi', 'j5Flavor', 'j6pT',\n",
       "       'j6Eta', 'j6Phi', 'j6Flavor', 'j12M', 'j13M', 'j14M', 'j25M', 'j23M',\n",
       "       'j24M', 'j34M', 'j35M', 'j45M', 'Chi-W', 'Chi-T'],\n",
       "      dtype='object')"
      ]
     },
     "execution_count": 83,
     "metadata": {},
     "output_type": "execute_result"
    }
   ],
   "source": [
    "df_s.columns"
   ]
  },
  {
   "cell_type": "code",
   "execution_count": 84,
   "id": "37addea4-20ea-418e-91de-8ae24016f5b3",
   "metadata": {},
   "outputs": [],
   "source": [
    "# df_b = file_b.drop(\"Unnamed: 0.1\", axis='columns')\n",
    "df_b = file_b.drop(\"Unnamed: 0\", axis='columns')"
   ]
  },
  {
   "cell_type": "code",
   "execution_count": 85,
   "id": "db1b3926-87af-41f4-a5ba-33792bd6adb1",
   "metadata": {},
   "outputs": [
    {
     "data": {
      "text/plain": [
       "Index(['j1pT', 'j1Eta', 'j1Phi', 'j1Flavor', 'j2pT', 'j2Eta', 'j2Phi',\n",
       "       'j2Flavor', 'j3pT', 'j3Eta', 'j3Phi', 'j3Flavor', 'j4pT', 'j4Eta',\n",
       "       'j4Phi', 'j4Flavor', 'j5pT', 'j5Eta', 'j5Phi', 'j5Flavor', 'j6pT',\n",
       "       'j6Eta', 'j6Phi', 'j6Flavor', 'j12M', 'j13M', 'j14M', 'j25M', 'j23M',\n",
       "       'j24M', 'j34M', 'j35M', 'j45M', 'Chi-W', 'Chi-T'],\n",
       "      dtype='object')"
      ]
     },
     "execution_count": 85,
     "metadata": {},
     "output_type": "execute_result"
    }
   ],
   "source": [
    "df_b.columns"
   ]
  },
  {
   "cell_type": "code",
   "execution_count": 86,
   "id": "543b9c6b-76c6-44b0-9342-f62b741e8d91",
   "metadata": {},
   "outputs": [
    {
     "data": {
      "text/html": [
       "<div>\n",
       "<style scoped>\n",
       "    .dataframe tbody tr th:only-of-type {\n",
       "        vertical-align: middle;\n",
       "    }\n",
       "\n",
       "    .dataframe tbody tr th {\n",
       "        vertical-align: top;\n",
       "    }\n",
       "\n",
       "    .dataframe thead th {\n",
       "        text-align: right;\n",
       "    }\n",
       "</style>\n",
       "<table border=\"1\" class=\"dataframe\">\n",
       "  <thead>\n",
       "    <tr style=\"text-align: right;\">\n",
       "      <th></th>\n",
       "      <th>j1pT</th>\n",
       "      <th>j1Eta</th>\n",
       "      <th>j1Phi</th>\n",
       "      <th>j1Flavor</th>\n",
       "      <th>j2pT</th>\n",
       "      <th>j2Eta</th>\n",
       "      <th>j2Phi</th>\n",
       "      <th>j2Flavor</th>\n",
       "      <th>j3pT</th>\n",
       "      <th>j3Eta</th>\n",
       "      <th>...</th>\n",
       "      <th>j13M</th>\n",
       "      <th>j14M</th>\n",
       "      <th>j25M</th>\n",
       "      <th>j23M</th>\n",
       "      <th>j24M</th>\n",
       "      <th>j34M</th>\n",
       "      <th>j35M</th>\n",
       "      <th>j45M</th>\n",
       "      <th>Chi-W</th>\n",
       "      <th>Chi-T</th>\n",
       "    </tr>\n",
       "  </thead>\n",
       "  <tbody>\n",
       "    <tr>\n",
       "      <th>0</th>\n",
       "      <td>0.641243</td>\n",
       "      <td>-0.824106</td>\n",
       "      <td>-0.525413</td>\n",
       "      <td>-0.624723</td>\n",
       "      <td>1.176251</td>\n",
       "      <td>-1.726791</td>\n",
       "      <td>0.459562</td>\n",
       "      <td>-0.580896</td>\n",
       "      <td>1.936539</td>\n",
       "      <td>-0.777487</td>\n",
       "      <td>...</td>\n",
       "      <td>0.221859</td>\n",
       "      <td>0.232627</td>\n",
       "      <td>0.757440</td>\n",
       "      <td>1.596213</td>\n",
       "      <td>1.237751</td>\n",
       "      <td>0.064207</td>\n",
       "      <td>-0.207285</td>\n",
       "      <td>-0.136670</td>\n",
       "      <td>0.273081</td>\n",
       "      <td>0.067301</td>\n",
       "    </tr>\n",
       "    <tr>\n",
       "      <th>1</th>\n",
       "      <td>0.515834</td>\n",
       "      <td>0.003526</td>\n",
       "      <td>1.012525</td>\n",
       "      <td>0.158916</td>\n",
       "      <td>0.374383</td>\n",
       "      <td>0.635108</td>\n",
       "      <td>0.061213</td>\n",
       "      <td>0.118356</td>\n",
       "      <td>0.790304</td>\n",
       "      <td>0.705576</td>\n",
       "      <td>...</td>\n",
       "      <td>-0.059797</td>\n",
       "      <td>-0.305765</td>\n",
       "      <td>-0.275139</td>\n",
       "      <td>-0.283829</td>\n",
       "      <td>-0.104059</td>\n",
       "      <td>-0.258256</td>\n",
       "      <td>-0.190079</td>\n",
       "      <td>-0.017064</td>\n",
       "      <td>-0.377279</td>\n",
       "      <td>-0.375306</td>\n",
       "    </tr>\n",
       "    <tr>\n",
       "      <th>2</th>\n",
       "      <td>-0.548016</td>\n",
       "      <td>2.787571</td>\n",
       "      <td>1.315933</td>\n",
       "      <td>-1.147149</td>\n",
       "      <td>-0.168650</td>\n",
       "      <td>1.424691</td>\n",
       "      <td>-0.049053</td>\n",
       "      <td>-0.580896</td>\n",
       "      <td>0.345555</td>\n",
       "      <td>0.487434</td>\n",
       "      <td>...</td>\n",
       "      <td>1.421206</td>\n",
       "      <td>4.579211</td>\n",
       "      <td>0.041620</td>\n",
       "      <td>-0.168338</td>\n",
       "      <td>1.485141</td>\n",
       "      <td>0.665163</td>\n",
       "      <td>-0.490805</td>\n",
       "      <td>0.758894</td>\n",
       "      <td>1.574657</td>\n",
       "      <td>1.433452</td>\n",
       "    </tr>\n",
       "    <tr>\n",
       "      <th>3</th>\n",
       "      <td>-1.127002</td>\n",
       "      <td>0.123292</td>\n",
       "      <td>-0.492683</td>\n",
       "      <td>-0.102297</td>\n",
       "      <td>-1.029847</td>\n",
       "      <td>-0.297575</td>\n",
       "      <td>-1.380728</td>\n",
       "      <td>0.118356</td>\n",
       "      <td>-0.893182</td>\n",
       "      <td>0.366400</td>\n",
       "      <td>...</td>\n",
       "      <td>-0.973742</td>\n",
       "      <td>-0.893496</td>\n",
       "      <td>-0.522370</td>\n",
       "      <td>-0.957241</td>\n",
       "      <td>-1.006782</td>\n",
       "      <td>-0.852910</td>\n",
       "      <td>-0.565387</td>\n",
       "      <td>-0.305855</td>\n",
       "      <td>-0.490642</td>\n",
       "      <td>-0.254580</td>\n",
       "    </tr>\n",
       "    <tr>\n",
       "      <th>4</th>\n",
       "      <td>0.272815</td>\n",
       "      <td>0.426948</td>\n",
       "      <td>0.795921</td>\n",
       "      <td>0.158916</td>\n",
       "      <td>0.123857</td>\n",
       "      <td>-0.690294</td>\n",
       "      <td>-0.337551</td>\n",
       "      <td>-0.813980</td>\n",
       "      <td>0.050003</td>\n",
       "      <td>-0.740121</td>\n",
       "      <td>...</td>\n",
       "      <td>-0.157834</td>\n",
       "      <td>-0.403490</td>\n",
       "      <td>-0.498563</td>\n",
       "      <td>-0.356299</td>\n",
       "      <td>-0.414749</td>\n",
       "      <td>-0.263170</td>\n",
       "      <td>-0.291797</td>\n",
       "      <td>-0.441967</td>\n",
       "      <td>-0.402497</td>\n",
       "      <td>-0.349324</td>\n",
       "    </tr>\n",
       "    <tr>\n",
       "      <th>...</th>\n",
       "      <td>...</td>\n",
       "      <td>...</td>\n",
       "      <td>...</td>\n",
       "      <td>...</td>\n",
       "      <td>...</td>\n",
       "      <td>...</td>\n",
       "      <td>...</td>\n",
       "      <td>...</td>\n",
       "      <td>...</td>\n",
       "      <td>...</td>\n",
       "      <td>...</td>\n",
       "      <td>...</td>\n",
       "      <td>...</td>\n",
       "      <td>...</td>\n",
       "      <td>...</td>\n",
       "      <td>...</td>\n",
       "      <td>...</td>\n",
       "      <td>...</td>\n",
       "      <td>...</td>\n",
       "      <td>...</td>\n",
       "      <td>...</td>\n",
       "    </tr>\n",
       "    <tr>\n",
       "      <th>499995</th>\n",
       "      <td>0.253542</td>\n",
       "      <td>0.660473</td>\n",
       "      <td>-1.195219</td>\n",
       "      <td>-0.145178</td>\n",
       "      <td>-0.013879</td>\n",
       "      <td>0.495499</td>\n",
       "      <td>0.243216</td>\n",
       "      <td>-0.171020</td>\n",
       "      <td>-0.217493</td>\n",
       "      <td>-0.745827</td>\n",
       "      <td>...</td>\n",
       "      <td>-0.223295</td>\n",
       "      <td>-0.419642</td>\n",
       "      <td>-0.687525</td>\n",
       "      <td>-0.458036</td>\n",
       "      <td>-0.658218</td>\n",
       "      <td>-0.673672</td>\n",
       "      <td>-0.453359</td>\n",
       "      <td>-0.615868</td>\n",
       "      <td>-0.497768</td>\n",
       "      <td>-0.394765</td>\n",
       "    </tr>\n",
       "    <tr>\n",
       "      <th>499996</th>\n",
       "      <td>-0.839396</td>\n",
       "      <td>-0.657857</td>\n",
       "      <td>-0.745244</td>\n",
       "      <td>-0.754943</td>\n",
       "      <td>-0.687651</td>\n",
       "      <td>0.759836</td>\n",
       "      <td>0.937720</td>\n",
       "      <td>-0.171020</td>\n",
       "      <td>-0.728202</td>\n",
       "      <td>0.121192</td>\n",
       "      <td>...</td>\n",
       "      <td>-0.815085</td>\n",
       "      <td>-0.883921</td>\n",
       "      <td>-0.678181</td>\n",
       "      <td>-0.828112</td>\n",
       "      <td>-0.648335</td>\n",
       "      <td>-0.789216</td>\n",
       "      <td>-0.722498</td>\n",
       "      <td>-0.554575</td>\n",
       "      <td>-0.525954</td>\n",
       "      <td>-0.358313</td>\n",
       "    </tr>\n",
       "    <tr>\n",
       "      <th>499997</th>\n",
       "      <td>-0.503407</td>\n",
       "      <td>0.416206</td>\n",
       "      <td>0.644823</td>\n",
       "      <td>-0.602502</td>\n",
       "      <td>0.057186</td>\n",
       "      <td>0.604318</td>\n",
       "      <td>-1.475031</td>\n",
       "      <td>-0.171020</td>\n",
       "      <td>0.383330</td>\n",
       "      <td>-0.184377</td>\n",
       "      <td>...</td>\n",
       "      <td>-0.791887</td>\n",
       "      <td>-0.242257</td>\n",
       "      <td>-0.671694</td>\n",
       "      <td>-0.571288</td>\n",
       "      <td>0.003753</td>\n",
       "      <td>-0.337340</td>\n",
       "      <td>-0.658722</td>\n",
       "      <td>-0.498216</td>\n",
       "      <td>-0.495493</td>\n",
       "      <td>-0.398707</td>\n",
       "    </tr>\n",
       "    <tr>\n",
       "      <th>499998</th>\n",
       "      <td>-1.041134</td>\n",
       "      <td>-1.462249</td>\n",
       "      <td>1.701259</td>\n",
       "      <td>2.293882</td>\n",
       "      <td>-0.735235</td>\n",
       "      <td>-2.189564</td>\n",
       "      <td>-0.457874</td>\n",
       "      <td>-0.894243</td>\n",
       "      <td>-0.838243</td>\n",
       "      <td>-1.194922</td>\n",
       "      <td>...</td>\n",
       "      <td>-0.342689</td>\n",
       "      <td>-0.387078</td>\n",
       "      <td>0.635275</td>\n",
       "      <td>0.811138</td>\n",
       "      <td>0.569949</td>\n",
       "      <td>-0.368443</td>\n",
       "      <td>-0.380094</td>\n",
       "      <td>-0.397833</td>\n",
       "      <td>-0.095388</td>\n",
       "      <td>-0.183308</td>\n",
       "    </tr>\n",
       "    <tr>\n",
       "      <th>499999</th>\n",
       "      <td>1.629800</td>\n",
       "      <td>-1.230354</td>\n",
       "      <td>1.549141</td>\n",
       "      <td>-0.602502</td>\n",
       "      <td>0.799146</td>\n",
       "      <td>-1.028763</td>\n",
       "      <td>0.057494</td>\n",
       "      <td>-0.460309</td>\n",
       "      <td>1.802268</td>\n",
       "      <td>-0.561606</td>\n",
       "      <td>...</td>\n",
       "      <td>0.415152</td>\n",
       "      <td>1.558142</td>\n",
       "      <td>0.155370</td>\n",
       "      <td>-0.155081</td>\n",
       "      <td>0.889848</td>\n",
       "      <td>0.481402</td>\n",
       "      <td>-0.127209</td>\n",
       "      <td>0.783538</td>\n",
       "      <td>0.116121</td>\n",
       "      <td>-0.048280</td>\n",
       "    </tr>\n",
       "  </tbody>\n",
       "</table>\n",
       "<p>1000000 rows × 35 columns</p>\n",
       "</div>"
      ],
      "text/plain": [
       "            j1pT     j1Eta     j1Phi  j1Flavor      j2pT     j2Eta     j2Phi  \\\n",
       "0       0.641243 -0.824106 -0.525413 -0.624723  1.176251 -1.726791  0.459562   \n",
       "1       0.515834  0.003526  1.012525  0.158916  0.374383  0.635108  0.061213   \n",
       "2      -0.548016  2.787571  1.315933 -1.147149 -0.168650  1.424691 -0.049053   \n",
       "3      -1.127002  0.123292 -0.492683 -0.102297 -1.029847 -0.297575 -1.380728   \n",
       "4       0.272815  0.426948  0.795921  0.158916  0.123857 -0.690294 -0.337551   \n",
       "...          ...       ...       ...       ...       ...       ...       ...   \n",
       "499995  0.253542  0.660473 -1.195219 -0.145178 -0.013879  0.495499  0.243216   \n",
       "499996 -0.839396 -0.657857 -0.745244 -0.754943 -0.687651  0.759836  0.937720   \n",
       "499997 -0.503407  0.416206  0.644823 -0.602502  0.057186  0.604318 -1.475031   \n",
       "499998 -1.041134 -1.462249  1.701259  2.293882 -0.735235 -2.189564 -0.457874   \n",
       "499999  1.629800 -1.230354  1.549141 -0.602502  0.799146 -1.028763  0.057494   \n",
       "\n",
       "        j2Flavor      j3pT     j3Eta  ...      j13M      j14M      j25M  \\\n",
       "0      -0.580896  1.936539 -0.777487  ...  0.221859  0.232627  0.757440   \n",
       "1       0.118356  0.790304  0.705576  ... -0.059797 -0.305765 -0.275139   \n",
       "2      -0.580896  0.345555  0.487434  ...  1.421206  4.579211  0.041620   \n",
       "3       0.118356 -0.893182  0.366400  ... -0.973742 -0.893496 -0.522370   \n",
       "4      -0.813980  0.050003 -0.740121  ... -0.157834 -0.403490 -0.498563   \n",
       "...          ...       ...       ...  ...       ...       ...       ...   \n",
       "499995 -0.171020 -0.217493 -0.745827  ... -0.223295 -0.419642 -0.687525   \n",
       "499996 -0.171020 -0.728202  0.121192  ... -0.815085 -0.883921 -0.678181   \n",
       "499997 -0.171020  0.383330 -0.184377  ... -0.791887 -0.242257 -0.671694   \n",
       "499998 -0.894243 -0.838243 -1.194922  ... -0.342689 -0.387078  0.635275   \n",
       "499999 -0.460309  1.802268 -0.561606  ...  0.415152  1.558142  0.155370   \n",
       "\n",
       "            j23M      j24M      j34M      j35M      j45M     Chi-W     Chi-T  \n",
       "0       1.596213  1.237751  0.064207 -0.207285 -0.136670  0.273081  0.067301  \n",
       "1      -0.283829 -0.104059 -0.258256 -0.190079 -0.017064 -0.377279 -0.375306  \n",
       "2      -0.168338  1.485141  0.665163 -0.490805  0.758894  1.574657  1.433452  \n",
       "3      -0.957241 -1.006782 -0.852910 -0.565387 -0.305855 -0.490642 -0.254580  \n",
       "4      -0.356299 -0.414749 -0.263170 -0.291797 -0.441967 -0.402497 -0.349324  \n",
       "...          ...       ...       ...       ...       ...       ...       ...  \n",
       "499995 -0.458036 -0.658218 -0.673672 -0.453359 -0.615868 -0.497768 -0.394765  \n",
       "499996 -0.828112 -0.648335 -0.789216 -0.722498 -0.554575 -0.525954 -0.358313  \n",
       "499997 -0.571288  0.003753 -0.337340 -0.658722 -0.498216 -0.495493 -0.398707  \n",
       "499998  0.811138  0.569949 -0.368443 -0.380094 -0.397833 -0.095388 -0.183308  \n",
       "499999 -0.155081  0.889848  0.481402 -0.127209  0.783538  0.116121 -0.048280  \n",
       "\n",
       "[1000000 rows x 35 columns]"
      ]
     },
     "execution_count": 86,
     "metadata": {},
     "output_type": "execute_result"
    }
   ],
   "source": [
    "from sklearn.preprocessing import StandardScaler\n",
    "scaler = StandardScaler()\n",
    "\n",
    "norm_sig = scaler.fit_transform(df_s)\n",
    "norm_back = scaler.fit_transform(df_b)\n",
    "\n",
    "norm_sig_df = pd.DataFrame(norm_sig, columns=df_s.columns)\n",
    "norm_back_df = pd.DataFrame(norm_back, columns=df_b.columns)\n",
    "\n",
    "norm_total_df = pd.concat([norm_sig_df, norm_back_df])\n",
    "norm_total_df"
   ]
  },
  {
   "cell_type": "code",
   "execution_count": 87,
   "id": "2cba7b70-b0bd-45ac-bd56-9abbbc2b4239",
   "metadata": {},
   "outputs": [],
   "source": [
    "ones = np.full(len(norm_sig_df), 1)\n",
    "zeros = np.full(len(norm_back_df), 0)\n",
    "\n",
    "signal = ak.from_numpy(np.concatenate((ones, zeros)))\n",
    "x = norm_total_df\n",
    "y = signal\n",
    "\n",
    "# Split the data into training and testing sets\n",
    "x_train, x_test, y_train, y_test = train_test_split(x, y, test_size=0.2)"
   ]
  },
  {
   "cell_type": "code",
   "execution_count": 88,
   "id": "e5df3d14-f2eb-4522-ae0c-9e629b0b2410",
   "metadata": {},
   "outputs": [
    {
     "data": {
      "text/plain": [
       "(500000, 500000)"
      ]
     },
     "execution_count": 88,
     "metadata": {},
     "output_type": "execute_result"
    }
   ],
   "source": [
    "len(ones), len(zeros)"
   ]
  },
  {
   "cell_type": "code",
   "execution_count": 89,
   "id": "587c6c0c-4760-45af-aa79-4012fb77ec6d",
   "metadata": {},
   "outputs": [],
   "source": [
    "x_train = tf.convert_to_tensor(x_train)\n",
    "x_test = tf.convert_to_tensor(x_test)\n",
    "y_train = tf.convert_to_tensor(y_train)\n",
    "y_test = tf.convert_to_tensor(y_test)"
   ]
  },
  {
   "cell_type": "code",
   "execution_count": 98,
   "id": "b8507976-6344-4c20-b1b3-1cf09c7e3358",
   "metadata": {},
   "outputs": [],
   "source": [
    " model = tf.keras.models.Sequential([\n",
    "    tf.keras.layers.Dense(64, input_dim=35, activation='relu'),\n",
    "    tf.keras.layers.Dropout(0.2),\n",
    "    tf.keras.layers.Dense(16, activation='relu'),\n",
    "    tf.keras.layers.Dropout(0.2),\n",
    "    tf.keras.layers.Dense(1, activation='sigmoid') \n",
    "])"
   ]
  },
  {
   "cell_type": "code",
   "execution_count": 99,
   "id": "89a9f247-d757-4c26-ad97-ca2bc37e467f",
   "metadata": {},
   "outputs": [],
   "source": [
    "model.compile(optimizer='adam',\n",
    "              loss='binary_crossentropy',\n",
    "              metrics=['accuracy'])"
   ]
  },
  {
   "cell_type": "code",
   "execution_count": 116,
   "id": "c069d2af-0ee8-4bcb-8c30-3974b1cf6ffa",
   "metadata": {},
   "outputs": [
    {
     "name": "stdout",
     "output_type": "stream",
     "text": [
      "Epoch 1/5\n",
      "\u001b[1m11852/11852\u001b[0m \u001b[32m━━━━━━━━━━━━━━━━━━━━\u001b[0m\u001b[37m\u001b[0m \u001b[1m11s\u001b[0m 962us/step - accuracy: 0.9823 - loss: 0.0530 - val_accuracy: 0.9948 - val_loss: 0.0175\n",
      "Epoch 2/5\n",
      "\u001b[1m11852/11852\u001b[0m \u001b[32m━━━━━━━━━━━━━━━━━━━━\u001b[0m\u001b[37m\u001b[0m \u001b[1m11s\u001b[0m 956us/step - accuracy: 0.9820 - loss: 0.0536 - val_accuracy: 0.9943 - val_loss: 0.0177\n",
      "Epoch 3/5\n",
      "\u001b[1m11852/11852\u001b[0m \u001b[32m━━━━━━━━━━━━━━━━━━━━\u001b[0m\u001b[37m\u001b[0m \u001b[1m12s\u001b[0m 972us/step - accuracy: 0.9825 - loss: 0.0515 - val_accuracy: 0.9936 - val_loss: 0.0187\n",
      "Epoch 4/5\n",
      "\u001b[1m11852/11852\u001b[0m \u001b[32m━━━━━━━━━━━━━━━━━━━━\u001b[0m\u001b[37m\u001b[0m \u001b[1m12s\u001b[0m 968us/step - accuracy: 0.9825 - loss: 0.0517 - val_accuracy: 0.9945 - val_loss: 0.0170\n",
      "Epoch 5/5\n",
      "\u001b[1m11852/11852\u001b[0m \u001b[32m━━━━━━━━━━━━━━━━━━━━\u001b[0m\u001b[37m\u001b[0m \u001b[1m12s\u001b[0m 1ms/step - accuracy: 0.9832 - loss: 0.0503 - val_accuracy: 0.9951 - val_loss: 0.0169\n"
     ]
    },
    {
     "data": {
      "text/plain": [
       "<keras.src.callbacks.history.History at 0x18d0af610>"
      ]
     },
     "execution_count": 116,
     "metadata": {},
     "output_type": "execute_result"
    }
   ],
   "source": [
    "model.fit(x_train, y_train, validation_split=0.2, epochs=5, batch_size=54)"
   ]
  },
  {
   "cell_type": "code",
   "execution_count": 117,
   "id": "4032b9a7-5db6-4a5f-88aa-3b9730408088",
   "metadata": {},
   "outputs": [
    {
     "name": "stdout",
     "output_type": "stream",
     "text": [
      "6250/6250 - 3s - 503us/step - accuracy: 0.9950 - loss: 0.0166\n",
      "\n",
      "Test accuracy: 0.9950399994850159\n"
     ]
    }
   ],
   "source": [
    "test_loss, test_acc = model.evaluate(x_test,  y_test, verbose=2)\n",
    "\n",
    "print('\\nTest accuracy:', test_acc)"
   ]
  },
  {
   "cell_type": "code",
   "execution_count": 118,
   "id": "abfe7eab-c47d-4e57-9fe1-4fced103df00",
   "metadata": {},
   "outputs": [
    {
     "data": {
      "text/plain": [
       "array([[9.9995482e-01],\n",
       "       [1.0000000e+00],\n",
       "       [7.7701502e-02],\n",
       "       ...,\n",
       "       [1.4368035e-19],\n",
       "       [2.8013259e-02],\n",
       "       [1.6118301e-13]], dtype=float32)"
      ]
     },
     "execution_count": 118,
     "metadata": {},
     "output_type": "execute_result"
    }
   ],
   "source": [
    "future = model(x_train).numpy()\n",
    "future"
   ]
  },
  {
   "cell_type": "code",
   "execution_count": 119,
   "id": "5b95e32f-1165-4795-bea4-c6da07af2c2a",
   "metadata": {},
   "outputs": [
    {
     "name": "stderr",
     "output_type": "stream",
     "text": [
      "/Users/beccahudson/anaconda3/lib/python3.11/site-packages/keras/src/ops/nn.py:545: UserWarning: You are using a softmax over axis -1 of a tensor of shape (200000, 1). This axis has size 1. The softmax operation will always return the value 1, which is likely not what you intended. Did you mean to use a sigmoid instead?\n",
      "  warnings.warn(\n"
     ]
    },
    {
     "data": {
      "text/plain": [
       "<tf.Tensor: shape=(200000, 1), dtype=float32, numpy=\n",
       "array([[0.99999994],\n",
       "       [0.99999994],\n",
       "       [0.99999994],\n",
       "       ...,\n",
       "       [0.99999994],\n",
       "       [0.99999994],\n",
       "       [0.99999994]], dtype=float32)>"
      ]
     },
     "execution_count": 119,
     "metadata": {},
     "output_type": "execute_result"
    }
   ],
   "source": [
    "future_model = tf.keras.Sequential([model, tf.keras.layers.Softmax()])\n",
    "future_model(x_test)"
   ]
  },
  {
   "cell_type": "code",
   "execution_count": 120,
   "id": "54c5be66-5b71-4780-bc10-43192e560af5",
   "metadata": {},
   "outputs": [
    {
     "name": "stdout",
     "output_type": "stream",
     "text": [
      "\u001b[1m6250/6250\u001b[0m \u001b[32m━━━━━━━━━━━━━━━━━━━━\u001b[0m\u001b[37m\u001b[0m \u001b[1m4s\u001b[0m 571us/step\n"
     ]
    }
   ],
   "source": [
    "# model.fit(x_train, y_train, epochs=10, batch_size=32)\n",
    "\n",
    "# Make predictions on the test data to get predicted probabilities\n",
    "y_probs = model.predict(x_test)"
   ]
  },
  {
   "cell_type": "code",
   "execution_count": 121,
   "id": "499e19da-920b-4ab4-8f47-f8627506f095",
   "metadata": {},
   "outputs": [
    {
     "data": {
      "image/png": "[encoded data removed]",
      "text/plain": [
       "<Figure size 640x480 with 1 Axes>"
      ]
     },
     "metadata": {},
     "output_type": "display_data"
    }
   ],
   "source": [
    "# Calculate the ROC curve and AUC\n",
    "fpr, tpr, thresholds = roc_curve(y_test, y_probs)\n",
    "roc_auc = auc(fpr, tpr)\n",
    "\n",
    "# Plot the ROC curve\n",
    "plt.figure()\n",
    "plt.plot(fpr, tpr, color='darkorange', lw=2, label=f'ROC curve (area = {roc_auc:.2f})')\n",
    "plt.xlim([0.0, 1.0])\n",
    "plt.ylim([0.0, 1.05])\n",
    "plt.xlabel('Signal')\n",
    "plt.ylabel('Background')\n",
    "plt.title('Receiver Operating Characteristic (ROC) Curve')\n",
    "plt.legend(loc='lower right')\n",
    "plt.show()"
   ]
  },
  {
   "cell_type": "code",
   "execution_count": 122,
   "id": "921c321c-3f8e-4ba2-bcdb-2d2c04c8fd99",
   "metadata": {},
   "outputs": [
    {
     "data": {
      "image/png": "[encoded data removed]",
      "text/plain": [
       "<Figure size 640x480 with 1 Axes>"
      ]
     },
     "metadata": {},
     "output_type": "display_data"
    }
   ],
   "source": [
    "plt.hist(fpr, bins = 50, range = (0,1), label = \"Background\")\n",
    "plt.hist(tpr, bins = 50, range = (0,1), label = \"Signal\")\n",
    "plt.legend()\n",
    "plt.yscale('log')\n",
    "plt.show()"
   ]
  },
  {
   "cell_type": "code",
   "execution_count": 123,
   "id": "9a4f7582-0c4d-411e-b15c-7c85e09b0eeb",
   "metadata": {},
   "outputs": [
    {
     "data": {
      "image/png": "[encoded data removed]",
      "text/plain": [
       "<Figure size 640x480 with 1 Axes>"
      ]
     },
     "metadata": {},
     "output_type": "display_data"
    }
   ],
   "source": [
    "plt.hist(fpr, bins = 50, range = (0,1), label = \"Background\")\n",
    "plt.legend()\n",
    "plt.yscale('log')\n",
    "plt.show()"
   ]
  },
  {
   "cell_type": "code",
   "execution_count": 124,
   "id": "08456d1f-6ba1-485f-a7b2-e4bae3b049a0",
   "metadata": {},
   "outputs": [
    {
     "data": {
      "image/png": "[encoded data removed]",
      "text/plain": [
       "<Figure size 640x480 with 1 Axes>"
      ]
     },
     "metadata": {},
     "output_type": "display_data"
    }
   ],
   "source": [
    "plt.hist(tpr, bins = 50, range = (0,1), label = \"Signal\", color='darkorange')\n",
    "plt.legend()\n",
    "plt.yscale('log')\n",
    "plt.show()"
   ]
  },
  {
   "cell_type": "code",
   "execution_count": null,
   "id": "57c699ff-cc04-48a8-a547-2ab70af7fbaa",
   "metadata": {},
   "outputs": [],
   "source": []
  }
 ],
 "metadata": {
  "kernelspec": {
   "display_name": "Python 3 (ipykernel)",
   "language": "python",
   "name": "python3"
  },
  "language_info": {
   "codemirror_mode": {
    "name": "ipython",
    "version": 3
   },
   "file_extension": ".py",
   "mimetype": "text/x-python",
   "name": "python",
   "nbconvert_exporter": "python",
   "pygments_lexer": "ipython3",
   "version": "3.11.5"
  }
 },
 "nbformat": 4,
 "nbformat_minor": 5
}
